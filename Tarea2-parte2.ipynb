{
 "cells": [
  {
   "cell_type": "code",
   "execution_count": null,
   "id": "5554705d",
   "metadata": {},
   "outputs": [],
   "source": [
    "#Universidad Galileo\n",
    "#Maestría de Ciencia de Datos\n",
    "#Statistical Learning 1\n",
    "#Jose Godoy\n",
    "#Carnet 22000570\n",
    "#2 de junio 2022\n",
    "\n",
    "#Tarea 2\n",
    "#Parte 2"
   ]
  },
  {
   "cell_type": "code",
   "execution_count": null,
   "id": "fd98a661",
   "metadata": {},
   "outputs": [],
   "source": [
    "#Importando librerías\n",
    "import numpy as np\n",
    "import pandas as pd\n",
    "import matplotlib.pyplot as plt"
   ]
  },
  {
   "cell_type": "code",
   "execution_count": null,
   "id": "a846636b",
   "metadata": {},
   "outputs": [],
   "source": [
    "#Importanto TensorFlow\n",
    "import tensorflow.compat.v1 as tf\n",
    "tf.compat.v1.disable_v2_behavior()\n",
    "tf.enable_eager_execution()\n",
    "from tensorflow.keras.callbacks import TensorBoard"
   ]
  },
  {
   "cell_type": "code",
   "execution_count": null,
   "id": "7cca44b1",
   "metadata": {},
   "outputs": [],
   "source": [
    "#Librerias extras\n",
    "import os\n",
    "import datetime\n",
    "from IPython.display import Image"
   ]
  }
 ],
 "metadata": {
  "kernelspec": {
   "display_name": "Python 3 (ipykernel)",
   "language": "python",
   "name": "python3"
  },
  "language_info": {
   "codemirror_mode": {
    "name": "ipython",
    "version": 3
   },
   "file_extension": ".py",
   "mimetype": "text/x-python",
   "name": "python",
   "nbconvert_exporter": "python",
   "pygments_lexer": "ipython3",
   "version": "3.10.4"
  }
 },
 "nbformat": 4,
 "nbformat_minor": 5
}
